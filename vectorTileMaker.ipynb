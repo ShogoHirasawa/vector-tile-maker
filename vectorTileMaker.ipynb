{
  "nbformat": 4,
  "nbformat_minor": 0,
  "metadata": {
    "colab": {
      "provenance": [],
      "authorship_tag": "ABX9TyOJEeVBN3BgFhIRadMsOuHQ",
      "include_colab_link": true
    },
    "kernelspec": {
      "name": "python3",
      "display_name": "Python 3"
    },
    "language_info": {
      "name": "python"
    }
  },
  "cells": [
    {
      "cell_type": "markdown",
      "metadata": {
        "id": "view-in-github",
        "colab_type": "text"
      },
      "source": [
        "<a href=\"https://colab.research.google.com/github/ShogoHirasawa/vector-tile-maker/blob/main/vectorTileMaker.ipynb\" target=\"_parent\"><img src=\"https://colab.research.google.com/assets/colab-badge.svg\" alt=\"Open In Colab\"/></a>"
      ]
    },
    {
      "cell_type": "markdown",
      "source": [
        "## 1. Make Tippecanoe environment"
      ],
      "metadata": {
        "id": "afzcU_5pmlel"
      }
    },
    {
      "cell_type": "code",
      "execution_count": null,
      "metadata": {
        "id": "YkkjmVD2hjgu"
      },
      "outputs": [],
      "source": [
        "# Clone the tippecanoe repository from GitHub\n",
        "!git clone https://github.com/mapbox/tippecanoe.git\n",
        "# Enter the tippecanoe folder\n",
        "%cd tippecanoe\n",
        "# Build tippecanoe using multiple cores (-j)\n",
        "!make -j\n",
        "# Install tippecanoe in the system\n",
        "!make install\n",
        "# Go back to the previous directory\n",
        "%cd .."
      ]
    },
    {
      "cell_type": "markdown",
      "source": [
        "## 2. Upload a GeoJSON file"
      ],
      "metadata": {
        "id": "ZNYuX6D2njYR"
      }
    },
    {
      "cell_type": "code",
      "source": [
        "# Import Colab's file handling module\n",
        "from google.colab import files\n",
        "# Display an upload dialog and store the uploaded file(s) in 'uploaded'\n",
        "uploaded = files.upload()"
      ],
      "metadata": {
        "id": "EBt7tv_Ohvta"
      },
      "execution_count": null,
      "outputs": []
    },
    {
      "cell_type": "markdown",
      "source": [
        "## 3. Retrieve the uploaded file name"
      ],
      "metadata": {
        "id": "fJHgS-DjnvFU"
      }
    },
    {
      "cell_type": "code",
      "source": [
        "# Extract the name of the first uploaded file from the 'uploaded' dictionary\n",
        "geojson_filename = next(iter(uploaded))"
      ],
      "metadata": {
        "id": "QOT3JqNHlHwo"
      },
      "execution_count": null,
      "outputs": []
    },
    {
      "cell_type": "markdown",
      "source": [
        "# 4. Retreave layer name from geojosn"
      ],
      "metadata": {
        "id": "f4SCUMAjpFe8"
      }
    },
    {
      "cell_type": "code",
      "source": [
        "import os\n",
        "layer_name = os.path.splitext(geojson_filename)[0]"
      ],
      "metadata": {
        "id": "nU1odPnrpFRZ"
      },
      "execution_count": null,
      "outputs": []
    },
    {
      "cell_type": "markdown",
      "source": [
        "## 4. Create the output directory for vector tiles"
      ],
      "metadata": {
        "id": "nAHBJ7own6uy"
      }
    },
    {
      "cell_type": "code",
      "source": [
        "# Make a folder called 'my_tiles' (if it doesn't exist, -p prevents an error)\n",
        "!mkdir -p my_tiles"
      ],
      "metadata": {
        "id": "d4PDDDd0jzRM"
      },
      "execution_count": null,
      "outputs": []
    },
    {
      "cell_type": "markdown",
      "source": [
        "## 5. Convert GeoJSON to vector tiles with Tippecanoe"
      ],
      "metadata": {
        "id": "PTbyhTtGoCbU"
      }
    },
    {
      "cell_type": "code",
      "source": [
        "!tippecanoe -e my_tiles -Z0 -z20 -l {layer_name} -pC -rg \"{geojson_filename}\"\n",
        "\n",
        "# -e my_tiles  : output tiles to the 'my_tiles' directory\n",
        "# -Z0 -z20     : zoom levels from 0 to 20\n",
        "# -l {layer_name} : In this command, the file name automatically becomes the layer name. / e.g. test.geojson → layer name: test\n",
        "# -pC          : preserve line simplification (metadata, etc.)\n",
        "# -rg          : Setting to display data for all zoom levels without optimizing data amount\n",
        "# \"{geojson_filename}\" : use the uploaded GeoJSON file"
      ],
      "metadata": {
        "id": "c2mb7H3tiWDU"
      },
      "execution_count": null,
      "outputs": []
    },
    {
      "cell_type": "markdown",
      "source": [
        "## 6. Zip the vector tiles and download them\n",
        "If you can see the directory \"my_tiles\", it was successed! you can download into your local environment."
      ],
      "metadata": {
        "id": "DIc0Bbuwoc-n"
      }
    },
    {
      "cell_type": "code",
      "source": [
        "!zip -r my_tiles.zip my_tiles"
      ],
      "metadata": {
        "collapsed": true,
        "id": "1-XiK8AfihjZ"
      },
      "execution_count": null,
      "outputs": []
    }
  ]
}